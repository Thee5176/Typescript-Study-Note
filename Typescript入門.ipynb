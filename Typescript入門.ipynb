{
 "cells": [
  {
   "cell_type": "markdown",
   "id": "94312c7b",
   "metadata": {},
   "source": [
    "# Typescript 入門\n"
   ]
  },
  {
   "cell_type": "markdown",
   "id": "d87331b4",
   "metadata": {},
   "source": [
    "### 変数"
   ]
  },
  {
   "cell_type": "markdown",
   "id": "f87ef21a",
   "metadata": {},
   "source": [
    "\n",
    "`const`: 原則に使うのはベストブラクティス\n"
   ]
  },
  {
   "cell_type": "code",
   "execution_count": 16,
   "id": "6be0506b",
   "metadata": {},
   "outputs": [],
   "source": [
    "const price1 = 129;\n",
    "// price1 = 100; //TypeError\n"
   ]
  },
  {
   "cell_type": "markdown",
   "id": "ee8035e3",
   "metadata": {},
   "source": [
    "`let`: 再代入が必要しか使わない"
   ]
  },
  {
   "cell_type": "code",
   "execution_count": 17,
   "id": "00f4da25",
   "metadata": {},
   "outputs": [
    {
     "data": {
      "text/plain": [
       "\u001b[33m100\u001b[39m"
      ]
     },
     "execution_count": 17,
     "metadata": {},
     "output_type": "execute_result"
    }
   ],
   "source": [
    "let price2 = 129;\n",
    "price2 = 100;\n"
   ]
  },
  {
   "cell_type": "markdown",
   "id": "8218fe13",
   "metadata": {},
   "source": [
    "### データ型　1/2：7 つのプリミティブ型"
   ]
  },
  {
   "cell_type": "markdown",
   "id": "e7d23a4e",
   "metadata": {},
   "source": [
    "#### number: 整数, 小数"
   ]
  },
  {
   "cell_type": "code",
   "execution_count": 18,
   "id": "669a8d36",
   "metadata": {},
   "outputs": [
    {
     "name": "stdout",
     "output_type": "stream",
     "text": [
      "number\n"
     ]
    }
   ],
   "source": [
    "let num: number = 4;\n",
    "num = 4;\n",
    "num = 0.5;\n",
    "console.log(typeof num);\n"
   ]
  },
  {
   "cell_type": "code",
   "execution_count": 19,
   "id": "3bdcd627",
   "metadata": {},
   "outputs": [
    {
     "data": {
      "text/plain": [
       "\u001b[33m1000000000\u001b[39m"
      ]
     },
     "execution_count": 19,
     "metadata": {},
     "output_type": "execute_result"
    }
   ],
   "source": [
    "// 長い桁を区切り：underscore(_) Notation\n",
    "num = 1_000_000_000; // 1000000\n"
   ]
  },
  {
   "cell_type": "code",
   "execution_count": 20,
   "id": "6c9f42f7",
   "metadata": {},
   "outputs": [
    {
     "name": "stdout",
     "output_type": "stream",
     "text": [
      "NaN\n"
     ]
    }
   ],
   "source": [
    "// 不正確な変数からも判断になってしまいます。\n",
    "num = parseInt(\"y\");\n",
    "console.log(num); // NaN\n"
   ]
  },
  {
   "cell_type": "code",
   "execution_count": 21,
   "id": "6f4b3f2b",
   "metadata": {},
   "outputs": [
    {
     "name": "stdout",
     "output_type": "stream",
     "text": [
      "bigint\n"
     ]
    }
   ],
   "source": [
    "let Bnum:bigint = 80n; // bigint example\n",
    "Bnum = 2n * 10n;\n",
    "console.log(typeof Bnum);\n"
   ]
  },
  {
   "cell_type": "markdown",
   "id": "66ec5e43",
   "metadata": {},
   "source": [
    "#### string\n"
   ]
  },
  {
   "cell_type": "code",
   "execution_count": 22,
   "id": "58df7f91",
   "metadata": {},
   "outputs": [
    {
     "name": "stdout",
     "output_type": "stream",
     "text": [
      "こんにちは1\n",
      "こんにちは,おだま(ですか)\n"
     ]
    }
   ],
   "source": [
    "// string\n",
    "let greet: string = \"こんにちは\";\n",
    "greet = greet + \"1\";\n",
    "console.log(greet);\n",
    "// テンプレートリテラル\n",
    "greet = \"こんにちは\";\n",
    "const greeting: string = `${greet},おだま(ですか)`;\n",
    "console.log(greeting);\n"
   ]
  },
  {
   "cell_type": "markdown",
   "id": "1e86402b",
   "metadata": {},
   "source": [
    "#### boolean : 真偽組 - true false"
   ]
  },
  {
   "cell_type": "markdown",
   "id": "23fe0b3e",
   "metadata": {},
   "source": [
    "\n",
    "#### null, undefined"
   ]
  },
  {
   "cell_type": "code",
   "execution_count": 23,
   "id": "8989bceb",
   "metadata": {},
   "outputs": [
    {
     "name": "stdout",
     "output_type": "stream",
     "text": [
      "undefined\n"
     ]
    }
   ],
   "source": [
    "// 初期給与化していない変数は自動的にundefinedが代入されています\n",
    "let letiable;\n",
    "console.log(letiable); // undefined"
   ]
  },
  {
   "cell_type": "code",
   "execution_count": 24,
   "id": "a9ea760c",
   "metadata": {},
   "outputs": [
    {
     "ename": "ReferenceError",
     "evalue": "document is not defined",
     "output_type": "error",
     "traceback": [
      "Stack trace:",
      "ReferenceError: document is not defined",
      "    at <anonymous>:2:17"
     ]
    }
   ],
   "source": [
    "// メソッドに目的のデータが取得できなかったら、nullを戻ってくる\n",
    "const element = document.querySelector(\"\");\n",
    "console.log(element); // null\n",
    "\n",
    "// ブラウザ内のJavaScripのため、Jupyterで実行不可"
   ]
  },
  {
   "cell_type": "markdown",
   "id": "e7010463",
   "metadata": {},
   "source": [
    "#### symbol : 唯一と不変のランダム値(読み取りごとに Symbol() が新しい値を生成する)\n",
    "\n",
    "\\*直接に値を扱えませんが、オブジェクトのプロパティに使うことができます。\n"
   ]
  },
  {
   "cell_type": "code",
   "execution_count": null,
   "id": "063eb72e",
   "metadata": {},
   "outputs": [
    {
     "name": "stdout",
     "output_type": "stream",
     "text": [
      "true\n"
     ]
    }
   ],
   "source": [
    "// Symbol()を用いてSymbolデータ作成\n",
    "const color = Symbol();\n",
    "const apple = {\n",
    "  [color]: \"true\",\n",
    "};\n",
    "console.log(apple[color]);\n"
   ]
  },
  {
   "cell_type": "markdown",
   "id": "fcf14ae2",
   "metadata": {},
   "source": [
    "### データ型　2/2：オプジェクト型"
   ]
  },
  {
   "cell_type": "markdown",
   "id": "de879d78",
   "metadata": {},
   "source": [
    "#### Object"
   ]
  },
  {
   "cell_type": "code",
   "execution_count": null,
   "id": "bb2339f7",
   "metadata": {},
   "outputs": [
    {
     "data": {
      "text/plain": [
       "\u001b[33m300\u001b[39m"
      ]
     },
     "execution_count": 4,
     "metadata": {},
     "output_type": "execute_result"
    }
   ],
   "source": [
    "type priceTag = { label: string, price: double, discount?:number };\n",
    "const groceryProduct : priceTag = {\n",
    "    label: '歯磨き粉',\n",
    "    price: 300\n",
    "}\n",
    "\n",
    "groceryProduct.price"
   ]
  },
  {
   "cell_type": "markdown",
   "id": "dd3e3b89",
   "metadata": {},
   "source": [
    "#### Array"
   ]
  },
  {
   "cell_type": "code",
   "execution_count": null,
   "id": "16ea7422",
   "metadata": {},
   "outputs": [
    {
     "name": "stdout",
     "output_type": "stream",
     "text": [
      "[ \"a\", \"b\", \"c\" ]\n",
      "[ \"a\", \"b\", \"c\", 1, 2 ]\n"
     ]
    }
   ],
   "source": [
    "//Arraｙを定義\n",
    "let myArray: string[] = new Array(\"a\",\"b\",\"c\");\n",
    "console.log(myArray);\n",
    "\n",
    "//ユニオン型Array\n",
    "let multiArray: (string | number)[] = new Array(\"a\", \"b\", \"c\", 1, 2);\n",
    "console.log(multiArray);"
   ]
  },
  {
   "cell_type": "code",
   "execution_count": null,
   "id": "8b31b221",
   "metadata": {},
   "outputs": [
    {
     "name": "stdout",
     "output_type": "stream",
     "text": [
      "true\n"
     ]
    }
   ],
   "source": [
    "console.log(multiArray instanceof Array)"
   ]
  },
  {
   "cell_type": "markdown",
   "id": "2c93fa61",
   "metadata": {},
   "source": [
    "#### Arrayメソッド"
   ]
  },
  {
   "cell_type": "code",
   "execution_count": null,
   "id": "7b236369",
   "metadata": {},
   "outputs": [
    {
     "name": "stdout",
     "output_type": "stream",
     "text": [
      "[\n",
      "  1,   2,   3,   4,   5,\n",
      "  \"a\", \"b\", \"c\", \"d\", \"e\"\n",
      "]\n"
     ]
    }
   ],
   "source": [
    "const x: number[5] = [1, 2, 3, 4, 5];\n",
    "const y: String[5] = [\"a\", \"b\", \"c\", \"d\", \"e\"];\n",
    "let testArray:Array<number | String> = [...x,...y];\n",
    "\n",
    "console.log(testArray);\n"
   ]
  },
  {
   "cell_type": "code",
   "execution_count": null,
   "id": "23d4b1a8",
   "metadata": {},
   "outputs": [
    {
     "name": "stdout",
     "output_type": "stream",
     "text": [
      "[ 1, 2, 3, 4, 5, \"a\", \"b\", \"c\", \"d\", \"e\", \"last element\" ]\n"
     ]
    },
    {
     "data": {
      "text/plain": [
       "\u001b[32m\"last element\"\u001b[39m"
      ]
     },
     "execution_count": 28,
     "metadata": {},
     "output_type": "execute_result"
    }
   ],
   "source": [
    "//Stack操作\n",
    "testArray.push(\"last element\");\n",
    "console.log(testArray);\n",
    "testArray.pop();"
   ]
  },
  {
   "cell_type": "code",
   "execution_count": null,
   "id": "f6ce05fb",
   "metadata": {},
   "outputs": [
    {
     "name": "stdout",
     "output_type": "stream",
     "text": [
      "[ \"first element\", 1, 2, 3, 4, 5, \"a\", \"b\", \"c\", \"d\", \"e\" ]\n"
     ]
    },
    {
     "data": {
      "text/plain": [
       "\u001b[32m\"first element\"\u001b[39m"
      ]
     },
     "execution_count": 29,
     "metadata": {},
     "output_type": "execute_result"
    }
   ],
   "source": [
    "//Queue操作\n",
    "testArray.unshift(\"first element\");\n",
    "console.log(testArray);\n",
    "testArray.shift();"
   ]
  },
  {
   "cell_type": "code",
   "execution_count": null,
   "id": "b32b64ce",
   "metadata": {},
   "outputs": [
    {
     "name": "stdout",
     "output_type": "stream",
     "text": [
      "[ 2, 3, 4, 5 ]\n"
     ]
    }
   ],
   "source": [
    "//スライス操作\n",
    "let newTestArray: any[] = testArray.slice(1, 5)\n",
    "console.log(newTestArray);"
   ]
  },
  {
   "cell_type": "code",
   "execution_count": null,
   "id": "48600151",
   "metadata": {},
   "outputs": [
    {
     "name": "stdout",
     "output_type": "stream",
     "text": [
      "toString:  1,2,3,4,5,a,b,c,d,e\n",
      "join:  1 | 2 | 3 | 4 | 5 | a | b | c | d | e\n",
      "from:  [\n",
      "  \"1\", \"2\", \"8\", \"7\",\n",
      "  \"4\", \"6\", \"5\", \"7\",\n",
      "  \"3\", \"6\"\n",
      "]\n"
     ]
    }
   ],
   "source": [
    "//arrayからStringに交換する\n",
    "let printArray:String = testArray.toString();     //カッマーで区切ってStringに変更\n",
    "console.log(\"toString: \", printArray);\n",
    "\n",
    "printArray = testArray.join(\" | \");\n",
    "console.log(\"join: \", printArray);\n",
    "\n",
    "//Stringからarrayに交換する\n",
    "let parseStringToArrray: string[] = Array.from(\"1287465736\");\n",
    "console.log(\"from: \", parseStringToArrray);"
   ]
  },
  {
   "cell_type": "code",
   "execution_count": null,
   "id": "369554de",
   "metadata": {},
   "outputs": [
    {
     "data": {
      "text/plain": [
       "[\n",
       "  \u001b[32m\"e\"\u001b[39m,\n",
       "  \u001b[32m\"Replaced Element\"\u001b[39m,\n",
       "  \u001b[32m\"Replaced Element\"\u001b[39m,\n",
       "  \u001b[32m\"Replaced Element\"\u001b[39m,\n",
       "  \u001b[32m\"Replaced Element\"\u001b[39m,\n",
       "  \u001b[32m\"Replaced Element\"\u001b[39m,\n",
       "  \u001b[33m4\u001b[39m,\n",
       "  \u001b[33m3\u001b[39m,\n",
       "  \u001b[33m2\u001b[39m,\n",
       "  \u001b[33m1\u001b[39m\n",
       "]"
      ]
     },
     "execution_count": 5,
     "metadata": {},
     "output_type": "execute_result"
    }
   ],
   "source": [
    "//値を数要素を代入\n",
    "const reversedTestArray:any[] = [...testArray].reverse();\n",
    "reversedTestArray.fill(\"Replaced Element\", 1, 6)"
   ]
  },
  {
   "cell_type": "markdown",
   "id": "fdcb5064",
   "metadata": {},
   "source": [
    "配列のアクセス制御："
   ]
  },
  {
   "cell_type": "code",
   "execution_count": null,
   "id": "e397cb34",
   "metadata": {},
   "outputs": [
    {
     "name": "stdout",
     "output_type": "stream",
     "text": [
      "undefined\n"
     ]
    }
   ],
   "source": [
    "let READONLY_ARRAY: readonly string[];\n",
    "\n",
    "// READONLY_ARRAY.push(\"4\");            //TypeError\n",
    "console.log(READONLY_ARRAY);"
   ]
  },
  {
   "cell_type": "markdown",
   "id": "2bd831b8",
   "metadata": {},
   "source": [
    "#### Tuple"
   ]
  },
  {
   "cell_type": "code",
   "execution_count": null,
   "id": "340efe5d",
   "metadata": {},
   "outputs": [],
   "source": [
    "let userInfo: [string, number, boolean] = [\"Alice\", 28, true];\n",
    "console.log(userInfo);\n",
    "\n",
    "// Tupleの要素へのアクセス\n",
    "let name = userInfo[0]; // \"Alice\"\n",
    "let age = userInfo[1];  // 28\n",
    "let isActive = userInfo[2]; // true\n",
    "\n",
    "// Tupleの型安全\n",
    "// userInfo[0] = 100; // エラー: string型が必要\n",
    "\n",
    "// Tupleの分割代入\n",
    "const [username, userAge, userStatus] = userInfo;\n",
    "console.log(username, userAge, userStatus);\n",
    "\n",
    "// 可変長Tuple\n",
    "let rgb: [number, number, number, ...string[]] = [255, 100, 50, \"extra\", \"values\"];\n",
    "console.log(rgb);"
   ]
  },
  {
   "cell_type": "markdown",
   "id": "4db0a6a2",
   "metadata": {},
   "source": [
    "\n",
    "#### Enum : 他種類の値をまとめて有意義な変数名で使われる\n"
   ]
  },
  {
   "cell_type": "markdown",
   "id": "dd266e76",
   "metadata": {},
   "source": [
    "- keyof : enum に定義されている関数名は string 型で扱い\n",
    "- typeof : 通常に要素の位置 number 型を格納されることです。上書きの場合は以下のコードブロック（8，9 行目）のようにもできます。"
   ]
  },
  {
   "cell_type": "code",
   "execution_count": null,
   "id": "99ea527d",
   "metadata": {},
   "outputs": [],
   "source": [
    "// enum定義\n",
    "enum ElementOfAccounting {\n",
    "  Assets, //0\n",
    "  Liabilities, //1\n",
    "  Equity, //2\n",
    "  Income, //3\n",
    "  Expense, //4\n",
    "  Entry = 0, //number: 0\n",
    "  Other = \"その他\", //string: \"その他\"\n",
    "}\n"
   ]
  },
  {
   "cell_type": "code",
   "execution_count": null,
   "id": "25e37c04",
   "metadata": {},
   "outputs": [],
   "source": [
    "// 型アノテーション : enumのキー名をユニオン型アノテーション\n",
    "type ElementType = keyof typeof ElementOfAccounting;\n",
    "const myElement: ElementType = \"Assets\";                   //enumのキーの値だけにデータ制限される"
   ]
  },
  {
   "cell_type": "code",
   "execution_count": null,
   "id": "3ddbd5b7",
   "metadata": {},
   "outputs": [
    {
     "name": "stdout",
     "output_type": "stream",
     "text": [
      "\n",
      "  Expense : Assets\n",
      "  Expense : 4\n",
      "  Entry : 0\n",
      "  Other : その他\n",
      "\n"
     ]
    }
   ],
   "source": [
    "// enum型の値を示し\n",
    "const myExpenseElement: ElementOfAccounting = ElementOfAccounting.Expense;\n",
    "console.log(`\n",
    "  Expense : ${myElement}\n",
    "  Expense : ${myExpenseElement}\n",
    "  Entry : ${ElementOfAccounting.Entry}\n",
    "  Other : ${ElementOfAccounting.Other}\n",
    "`);"
   ]
  },
  {
   "cell_type": "markdown",
   "id": "27bd0b5b",
   "metadata": {},
   "source": [
    "#### Function\n"
   ]
  },
  {
   "cell_type": "code",
   "execution_count": null,
   "id": "3cdd2173",
   "metadata": {},
   "outputs": [
    {
     "name": "stdout",
     "output_type": "stream",
     "text": [
      "Hello, Function \n",
      "\n",
      "\n",
      "Hello, Function \n",
      "Hello, Function \n",
      "\n"
     ]
    }
   ],
   "source": [
    "//通常の関数　定義\n",
    "function greet(num:number = 1, ): void {\n",
    "    console.log(\"Hello, Function \\n\".repeat(num));\n",
    "}\n",
    "\n",
    "greet()\n",
    "console.log()\n",
    "greet(2)"
   ]
  },
  {
   "cell_type": "code",
   "execution_count": null,
   "id": "6febaeaa",
   "metadata": {},
   "outputs": [
    {
     "name": "stdout",
     "output_type": "stream",
     "text": [
      "Hello, Function \n",
      "Hello, Function \n",
      "\n",
      "It's Good to see you\n"
     ]
    }
   ],
   "source": [
    "//残余引数　関数\n",
    "function greet(num: number, ...other: string[]): void {\n",
    "    console.log(\"Hello, Function \\n\".repeat(num));\n",
    "    console.log(other.join(\" \"));\n",
    "}\n",
    "\n",
    "greet(2, \"It's\", \"Good\", \"to\", \"see\", \"you\");"
   ]
  },
  {
   "cell_type": "code",
   "execution_count": null,
   "id": "21ffd7b1",
   "metadata": {},
   "outputs": [
    {
     "name": "stdout",
     "output_type": "stream",
     "text": [
      "Hello, Function \n",
      "Hello, Function \n",
      "Hello, Function \n",
      "\n"
     ]
    }
   ],
   "source": [
    "//アロー関数　定義\n",
    "const arrow_greet = (num: number):void => {\n",
    "    console.log(\"Hello, Function \\n\".repeat(num));\n",
    "}\n",
    "\n",
    "arrow_greet(3)"
   ]
  },
  {
   "cell_type": "code",
   "execution_count": null,
   "id": "8b3cc397",
   "metadata": {},
   "outputs": [
    {
     "name": "stdout",
     "output_type": "stream",
     "text": [
      "Hello, Function \n",
      "Hello, Function \n",
      "Hello, Function \n",
      "Hello, Function \n",
      "\n"
     ]
    }
   ],
   "source": [
    "//1つ引数と1行処理の関数は省略可 (デメリット：データアノテーション利用不可)\n",
    "const short_arrow_greet = num => console.log(\"Hello, Function \\n\".repeat(num));\n",
    "\n",
    "short_arrow_greet(4)"
   ]
  },
  {
   "cell_type": "markdown",
   "id": "c63a1c3b",
   "metadata": {},
   "source": [
    "#### Class\n"
   ]
  },
  {
   "cell_type": "code",
   "execution_count": null,
   "id": "42db7d20",
   "metadata": {},
   "outputs": [],
   "source": [
    "class NutritionLabel {\n",
    "  //property\n",
    "  energy?: number;\n",
    "  protected carbs: double;     //炭水化物(g)\n",
    "  protected proteins: double;  //たんぱく質(g)\n",
    "  protected fats: double;      //脂質(g)\n",
    "  protected sodium: double;    //食塩相当量(mg)\n",
    "  private portionSize: number;\n",
    "\n",
    "  //constructor\n",
    "  constructor(\n",
    "    carbs: double,\n",
    "    proteins: double,\n",
    "    fats: double,\n",
    "    sodium: double,\n",
    "    portionSize: number = 100\n",
    "  ) {\n",
    "    this.carbs = carbs;\n",
    "    this.proteins = proteins;\n",
    "    this.fats = fats;\n",
    "    this.sodium = sodium;\n",
    "    this.portionSize = portionSize;\n",
    "  }\n",
    "\n",
    "\n",
    "  //getter, setter\n",
    "  getPortionSize(): number { return this.portionSize }\n",
    "  setPortionSize(carbs:number):void { this.portionSize = this.portionSize; }\n",
    "\n",
    "  //method\n",
    "  calculateEnergy():void {\n",
    "    this.energy = this.carbs*4 + this.proteins*8 + this.fats*9;\n",
    "  }\n",
    "}"
   ]
  },
  {
   "cell_type": "code",
   "execution_count": null,
   "id": "2620fd2f",
   "metadata": {},
   "outputs": [
    {
     "name": "stdout",
     "output_type": "stream",
     "text": [
      "焼きそば麺: 318.1 kcal/ 100g\n"
     ]
    }
   ],
   "source": [
    "const Noodle = new NutritionLabel(4.2, 1.1, 32.5, 0.3)\n",
    "Noodle.calculateEnergy();\n",
    "\n",
    "console.log(`焼きそば麺: ${Noodle.energy} kcal/ ${Noodle.getPortionSize()}g`)"
   ]
  },
  {
   "cell_type": "markdown",
   "id": "a7182d4a",
   "metadata": {},
   "source": [
    "#### Interface"
   ]
  },
  {
   "cell_type": "code",
   "execution_count": null,
   "id": "23d9bf57",
   "metadata": {},
   "outputs": [],
   "source": [
    "interface INutrition{\n",
    "    energy: number;\n",
    "    carbohydrates: number;\n",
    "    fats: number;\n",
    "    proteins: number;\n",
    "    fibres: number;\n",
    "    portionSize: number;\n",
    "    \n",
    "    calculateEnergy(): void;\n",
    "}\n",
    "\n",
    "class NutritionLabel2 implements INutrition {\n",
    "    protected carbs: double; //炭水化物(g)\n",
    "    protected proteins: double; //たんぱく質(g)\n",
    "    protected fats: double; //脂質(g)\n",
    "    protected sodium: double; //食塩相当量(mg)\n",
    "    private portionSize: number;\n",
    "\n",
    "    constructor(\n",
    "        carbs: double,\n",
    "        proteins: double,\n",
    "        fats: double,\n",
    "        sodium: double,\n",
    "        portionSize: number = 100\n",
    "    ) {\n",
    "        this.carbs = carbs;\n",
    "        this.proteins = proteins;\n",
    "        this.fats = fats;\n",
    "        this.sodium = sodium;\n",
    "        this.portionSize = portionSize;\n",
    "    }\n",
    "\n",
    "        getPortionSize(): number {\n",
    "            return this.portionSize;\n",
    "        }\n",
    "        setPortionSize(carbs: number): void {\n",
    "            this.portionSize = this.portionSize;\n",
    "        }\n",
    "\n",
    "    calculateEnergy(): void {\n",
    "        this.energy = this.carbs * 4 + this.proteins * 8 + this.fats * 9;\n",
    "    }\n",
    "}"
   ]
  },
  {
   "cell_type": "code",
   "execution_count": null,
   "id": "51ac4331",
   "metadata": {},
   "outputs": [
    {
     "name": "stdout",
     "output_type": "stream",
     "text": [
      "インターフェイスによりクラスを作成する。\n",
      "焼きそば麺: 318.1 kcal/ 100g\n"
     ]
    }
   ],
   "source": [
    "const Noodle = new NutritionLabel2(4.2, 1.1, 32.5, 0.3);\n",
    "Noodle.calculateEnergy();\n",
    "\n",
    "console.log(\"インターフェイスにより同じの「NutritionLabelクラス」を作成する。\");\n",
    "console.log(`焼きそば麺: ${Noodle.energy} kcal/ ${Noodle.getPortionSize()}g`);"
   ]
  },
  {
   "cell_type": "markdown",
   "id": "0034729a",
   "metadata": {},
   "source": [
    "### 型注釈"
   ]
  },
  {
   "cell_type": "markdown",
   "id": "8daf1e4b",
   "metadata": {},
   "source": [
    "#### ユニオン型"
   ]
  },
  {
   "cell_type": "code",
   "execution_count": null,
   "id": "7d00df07",
   "metadata": {},
   "outputs": [
    {
     "name": "stdout",
     "output_type": "stream",
     "text": [
      "number\n",
      "bigint\n"
     ]
    }
   ],
   "source": [
    "let anyNumber: number | bigint\n",
    "anyNumber = 3.14; //number\n",
    "console.log(typeof anyNumber);\n",
    "anyNumber = 30_000n; //bigint\n",
    "console.log(typeof anyNumber);"
   ]
  },
  {
   "cell_type": "markdown",
   "id": "bf606a60",
   "metadata": {},
   "source": [
    "#### リテラル型：カスタムデータ型を変数として作成したら、再利用できることです。"
   ]
  },
  {
   "cell_type": "code",
   "execution_count": null,
   "id": "d36bcaa0",
   "metadata": {},
   "outputs": [
    {
     "name": "stdout",
     "output_type": "stream",
     "text": [
      "true\n",
      "Yes\n"
     ]
    }
   ],
   "source": [
    "//データ型を変数にまとめて定義するのは「型エイリアス」といいます\n",
    "type Choice = \"Yes\" | true;\n",
    "\n",
    "const anyChoice: Choice = true;\n",
    "console.log(anyChoice)\n",
    "\n",
    "const yourChoice: Choice = \"Yes\";\n",
    "console.log(yourChoice)"
   ]
  }
 ],
 "metadata": {
  "kernelspec": {
   "display_name": "Deno",
   "language": "typescript",
   "name": "deno"
  },
  "language_info": {
   "codemirror_mode": "typescript",
   "file_extension": ".ts",
   "mimetype": "text/x.typescript",
   "name": "typescript",
   "nbconvert_exporter": "script",
   "pygments_lexer": "typescript",
   "version": "5.8.3"
  }
 },
 "nbformat": 4,
 "nbformat_minor": 5
}
